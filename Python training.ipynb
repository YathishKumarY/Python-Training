{
 "cells": [
  {
   "cell_type": "code",
   "execution_count": null,
   "id": "80596844",
   "metadata": {},
   "outputs": [],
   "source": [
    "print(\"This is the first line\",end = ' ',sep = \"\")"
   ]
  },
  {
   "cell_type": "code",
   "execution_count": null,
   "id": "2cb7982e",
   "metadata": {},
   "outputs": [],
   "source": [
    "print(\"yathish\" , \"kumar\",sep=\"\\t\")"
   ]
  },
  {
   "cell_type": "code",
   "execution_count": null,
   "id": "791b1b8a",
   "metadata": {},
   "outputs": [],
   "source": [
    "print(\"c:\\\\nancy\")"
   ]
  },
  {
   "cell_type": "code",
   "execution_count": null,
   "id": "9f48ee2f",
   "metadata": {},
   "outputs": [],
   "source": [
    "print(\"test:\\\"python2\\\"\")"
   ]
  },
  {
   "cell_type": "code",
   "execution_count": null,
   "id": "c6607434",
   "metadata": {},
   "outputs": [],
   "source": [
    "print(\"\\x48\\x45\\x4C\\x4C\\x4F\\x20\\x57\\x4F\\x52\\x4C\\x44\")"
   ]
  },
  {
   "cell_type": "code",
   "execution_count": null,
   "id": "04f01ecd",
   "metadata": {},
   "outputs": [],
   "source": [
    "x = open(\"demo.txt\",'w')\n",
    "print(\"Hello yathish\",file=x)\n",
    "x.close()"
   ]
  },
  {
   "cell_type": "code",
   "execution_count": null,
   "id": "c67eb0cf",
   "metadata": {},
   "outputs": [],
   "source": [
    "var1 = \"yathish\"\n",
    "var2 = \"kumar\"\n",
    "\n",
    "print(\"{1} {0}\".format(var1,var2))"
   ]
  },
  {
   "cell_type": "code",
   "execution_count": null,
   "id": "7243765b",
   "metadata": {},
   "outputs": [],
   "source": [
    "print(\"%s %s\"%(var1,var2))"
   ]
  },
  {
   "cell_type": "code",
   "execution_count": null,
   "id": "23310644",
   "metadata": {},
   "outputs": [],
   "source": [
    "# FirstName = input(\"Enter First Name: \")\n",
    "# LastName = input(\"Enter Last Name: \")\n",
    "DOB = input(\"Enter the DOB (DD MM YYYY): \")\n",
    "\n",
    "newDOB = DOB.split()\n",
    "\n",
    "print(type(newDOB))\n",
    "\n",
    "DOB = newDOB[2]\n",
    "\n",
    "age = 2022 - int(DOB)\n",
    "# phoneno = int(input(\"Enter the phone number: \"))\n",
    "\n",
    "# print(\"My full name is \" + FirstName + \"\\t\" + LastName)\n",
    "\n",
    "# print(\"My full name is {f} {l}\".format(f = FirstName,l = LastName))\n",
    "print(\"My Age is {0}\".format(age))\n",
    "# print(\"My Phone number is {0}\".format(phoneno))"
   ]
  },
  {
   "cell_type": "code",
   "execution_count": null,
   "id": "41cfb914",
   "metadata": {},
   "outputs": [],
   "source": [
    "from datetime import date\n",
    "today = date.today()\n",
    "\n",
    "print(today)\n",
    "\n",
    "# birth = int(input(\"Enter the date of year: \"))\n",
    "\n",
    "# age = today.day - birth"
   ]
  },
  {
   "cell_type": "code",
   "execution_count": null,
   "id": "be61a609",
   "metadata": {},
   "outputs": [],
   "source": [
    "name = \"python is the new language\"\n",
    "\n",
    "mylist = name.split()\n",
    "\n",
    "myRevList = mylist[::-1]\n",
    "\n",
    "print(myRevList)"
   ]
  },
  {
   "cell_type": "code",
   "execution_count": null,
   "id": "e96f2da5",
   "metadata": {},
   "outputs": [],
   "source": [
    "ultlist = []\n",
    "for item in myRevList:\n",
    "    newitem = item[::-1]\n",
    "    ultlist.append(newitem)"
   ]
  },
  {
   "cell_type": "code",
   "execution_count": null,
   "id": "0c94272a",
   "metadata": {},
   "outputs": [],
   "source": [
    "print(ultlist)"
   ]
  },
  {
   "cell_type": "code",
   "execution_count": null,
   "id": "dcf30bb7",
   "metadata": {},
   "outputs": [],
   "source": [
    "' '.join(ultlist)"
   ]
  },
  {
   "cell_type": "code",
   "execution_count": null,
   "id": "0e06084a",
   "metadata": {},
   "outputs": [],
   "source": [
    "name = \"python\""
   ]
  },
  {
   "cell_type": "code",
   "execution_count": null,
   "id": "ebee6de8",
   "metadata": {},
   "outputs": [],
   "source": [
    "print(name[1::2])"
   ]
  },
  {
   "cell_type": "code",
   "execution_count": null,
   "id": "f0c4ff06",
   "metadata": {},
   "outputs": [],
   "source": [
    "print(name.endswith(\"n\"))"
   ]
  },
  {
   "cell_type": "code",
   "execution_count": null,
   "id": "6daae0c3",
   "metadata": {},
   "outputs": [],
   "source": [
    "name.replace(\"p\",\"J\")"
   ]
  },
  {
   "cell_type": "code",
   "execution_count": null,
   "id": "f709dfec",
   "metadata": {},
   "outputs": [],
   "source": [
    "name.capitalize()"
   ]
  },
  {
   "cell_type": "code",
   "execution_count": null,
   "id": "7ecdda72",
   "metadata": {},
   "outputs": [],
   "source": [
    "name = \"Mangesh\"\n",
    "\n",
    "for i in name[::-1]:\n",
    "    print(i,end=\"\\n\")"
   ]
  },
  {
   "cell_type": "code",
   "execution_count": null,
   "id": "6997a18b",
   "metadata": {
    "scrolled": true
   },
   "outputs": [],
   "source": [
    "num = [4,3,2,1]\n",
    "\n",
    "print(num[2])\n",
    "\n",
    "num2 = reversed(num)\n",
    "\n",
    "print(num2)\n",
    "for i in num2:\n",
    "    print(i, end = \" \")"
   ]
  },
  {
   "cell_type": "code",
   "execution_count": null,
   "id": "b81945d8",
   "metadata": {},
   "outputs": [],
   "source": [
    "import numpy as np"
   ]
  },
  {
   "cell_type": "code",
   "execution_count": null,
   "id": "1547c989",
   "metadata": {},
   "outputs": [],
   "source": [
    "name = input(\"Student name: \")\n",
    "totalclasses = 130\n",
    "classes_attended = \n",
    "if(classes_attended > 70)\n",
    "    print(\"Eligible for exam\")\n",
    "else:\n",
    "    print(\"Not eligible for exam\")"
   ]
  },
  {
   "cell_type": "code",
   "execution_count": 1,
   "id": "4f5a377a",
   "metadata": {},
   "outputs": [
    {
     "name": "stdout",
     "output_type": "stream",
     "text": [
      "Enter the Valid name: hfh\n",
      "Enter the Valid Phone number: 8768576439\n",
      "Congratulations!! You entered the valid Details :)\n"
     ]
    }
   ],
   "source": [
    "while True:\n",
    "    \n",
    "    Firstname = input(\"Enter the Valid Firstname: \")\n",
    "    Surname = input(\"Enter the your Surname: \")\n",
    "    phoneno = input(\"Enter the Valid Phone number: \")\n",
    "    age = input(\"Enter your age: \")\n",
    "    City = input(\"Enter your city you live in: \")\n",
    "    Salary = input(\"Enter your current salary: \")\n",
    "    DepartmenName = input(\"Enter the department name: \")\n",
    "    \n",
    "    if(name.isalpha() and phoneno.isnumeric()):\n",
    "        if(len(name) > 0 and len(phoneno) == 10):\n",
    "            print(\"Congratulations!! You entered the valid Details :)\")\n",
    "            break\n",
    "            \n",
    "    else:\n",
    "        print(\"You entered invalid details\")\n",
    "        print(\"Try Again :(\")"
   ]
  },
  {
   "cell_type": "code",
   "execution_count": null,
   "id": "43b090a5",
   "metadata": {},
   "outputs": [],
   "source": []
  }
 ],
 "metadata": {
  "kernelspec": {
   "display_name": "Python 3 (ipykernel)",
   "language": "python",
   "name": "python3"
  },
  "language_info": {
   "codemirror_mode": {
    "name": "ipython",
    "version": 3
   },
   "file_extension": ".py",
   "mimetype": "text/x-python",
   "name": "python",
   "nbconvert_exporter": "python",
   "pygments_lexer": "ipython3",
   "version": "3.9.12"
  }
 },
 "nbformat": 4,
 "nbformat_minor": 5
}
